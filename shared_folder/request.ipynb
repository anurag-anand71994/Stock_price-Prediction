{
 "cells": [
  {
   "cell_type": "code",
   "execution_count": 15,
   "id": "a4a381b2",
   "metadata": {},
   "outputs": [],
   "source": [
    "import requests"
   ]
  },
  {
   "cell_type": "code",
   "execution_count": 18,
   "id": "c493afa0",
   "metadata": {},
   "outputs": [],
   "source": [
    "d = {'message' : \"This is the 2nd time we have tried 2 contact u. U have won the £750 Pound prize. 2 claim is easy, call 087187272008 NOW1! Only 10p per minute. BT-national-rate.\"}\n",
    "op = requests.post(\"http://172.17.0.2:8889/spam_check\" , json = d)"
   ]
  },
  {
   "cell_type": "code",
   "execution_count": 19,
   "id": "5da007bf",
   "metadata": {},
   "outputs": [
    {
     "data": {
      "text/plain": [
       "'Spam'"
      ]
     },
     "execution_count": 19,
     "metadata": {},
     "output_type": "execute_result"
    }
   ],
   "source": [
    "t = eval(op.text)\n",
    "t[\"op\"]"
   ]
  },
  {
   "cell_type": "code",
   "execution_count": 4,
   "id": "9474510e",
   "metadata": {},
   "outputs": [
    {
     "data": {
      "text/plain": [
       "<Response [200]>"
      ]
     },
     "execution_count": 4,
     "metadata": {},
     "output_type": "execute_result"
    }
   ],
   "source": [
    "op = requests.get(\"http://172.17.0.2:8889/health_check\" )\n",
    "op"
   ]
  },
  {
   "cell_type": "code",
   "execution_count": 5,
   "id": "b310d717",
   "metadata": {},
   "outputs": [
    {
     "data": {
      "text/plain": [
       "'Hello World'"
      ]
     },
     "execution_count": 5,
     "metadata": {},
     "output_type": "execute_result"
    }
   ],
   "source": [
    "op.text"
   ]
  }
 ],
 "metadata": {
  "kernelspec": {
   "display_name": "Python 3 (ipykernel)",
   "language": "python",
   "name": "python3"
  },
  "language_info": {
   "codemirror_mode": {
    "name": "ipython",
    "version": 3
   },
   "file_extension": ".py",
   "mimetype": "text/x-python",
   "name": "python",
   "nbconvert_exporter": "python",
   "pygments_lexer": "ipython3",
   "version": "3.8.2"
  }
 },
 "nbformat": 4,
 "nbformat_minor": 5
}
