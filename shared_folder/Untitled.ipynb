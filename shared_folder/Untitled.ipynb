{
 "cells": [
  {
   "cell_type": "code",
   "execution_count": 1,
   "id": "7a759378",
   "metadata": {},
   "outputs": [],
   "source": [
    "import pandas as pd\n",
    "from sklearn.feature_extraction.text import TfidfVectorizer\n",
    "from sklearn.linear_model import LogisticRegression\n",
    "from sklearn.metrics import classification_report"
   ]
  },
  {
   "cell_type": "code",
   "execution_count": 2,
   "id": "4ac8e60e",
   "metadata": {},
   "outputs": [],
   "source": [
    "df_train = pd.read_csv(\"/data/Data/SMS_train.csv\" , encoding = \"ISO-8859-1\")\n",
    "df_test = pd.read_csv(\"/data/Data/SMS_test.csv\" , encoding = \"ISO-8859-1\")"
   ]
  },
  {
   "cell_type": "code",
   "execution_count": 3,
   "id": "0b5da577",
   "metadata": {},
   "outputs": [
    {
     "data": {
      "text/plain": [
       "Index(['S. No.', 'Message_body', 'Label'], dtype='object')"
      ]
     },
     "execution_count": 3,
     "metadata": {},
     "output_type": "execute_result"
    }
   ],
   "source": [
    "df_train.columns"
   ]
  },
  {
   "cell_type": "code",
   "execution_count": 4,
   "id": "c7e0cc2c",
   "metadata": {},
   "outputs": [
    {
     "data": {
      "text/plain": [
       "S. No.          0\n",
       "Message_body    0\n",
       "Label           0\n",
       "dtype: int64"
      ]
     },
     "execution_count": 4,
     "metadata": {},
     "output_type": "execute_result"
    }
   ],
   "source": [
    "df_train.isnull().sum()"
   ]
  },
  {
   "cell_type": "code",
   "execution_count": 5,
   "id": "cfbb717c",
   "metadata": {},
   "outputs": [
    {
     "data": {
      "text/plain": [
       "Non-Spam    835\n",
       "Spam        122\n",
       "Name: Label, dtype: int64"
      ]
     },
     "execution_count": 5,
     "metadata": {},
     "output_type": "execute_result"
    }
   ],
   "source": [
    "df_train['Label'].value_counts()"
   ]
  },
  {
   "cell_type": "code",
   "execution_count": 6,
   "id": "c43e7e22",
   "metadata": {},
   "outputs": [],
   "source": [
    "vectorizer = TfidfVectorizer()\n",
    "xt = vectorizer.fit_transform(df_train['Message_body'])"
   ]
  },
  {
   "cell_type": "code",
   "execution_count": 7,
   "id": "233a64ad",
   "metadata": {},
   "outputs": [],
   "source": [
    "yt = df_train['Label']"
   ]
  },
  {
   "cell_type": "code",
   "execution_count": 8,
   "id": "287f26fc",
   "metadata": {},
   "outputs": [],
   "source": [
    "xe = vectorizer.transform(df_test[\"Message_body\"])\n",
    "ye = df_test['Label']"
   ]
  },
  {
   "cell_type": "code",
   "execution_count": 9,
   "id": "36a62594",
   "metadata": {},
   "outputs": [],
   "source": [
    "clf = LogisticRegression(random_state=0).fit(xt, yt)"
   ]
  },
  {
   "cell_type": "code",
   "execution_count": 10,
   "id": "fd73874b",
   "metadata": {},
   "outputs": [],
   "source": [
    "op = clf.predict(xe)"
   ]
  },
  {
   "cell_type": "code",
   "execution_count": 11,
   "id": "38005255",
   "metadata": {},
   "outputs": [
    {
     "name": "stdout",
     "output_type": "stream",
     "text": [
      "              precision    recall  f1-score   support\n",
      "\n",
      "    Non-Spam       0.53      1.00      0.69        49\n",
      "        Spam       1.00      0.42      0.59        76\n",
      "\n",
      "    accuracy                           0.65       125\n",
      "   macro avg       0.76      0.71      0.64       125\n",
      "weighted avg       0.81      0.65      0.63       125\n",
      "\n"
     ]
    }
   ],
   "source": [
    "print(classification_report(ye, op))"
   ]
  },
  {
   "cell_type": "code",
   "execution_count": 12,
   "id": "f0a69ca5",
   "metadata": {},
   "outputs": [],
   "source": [
    "import pickle as pkl"
   ]
  },
  {
   "cell_type": "code",
   "execution_count": 13,
   "id": "1b544af2",
   "metadata": {},
   "outputs": [],
   "source": [
    "# with open(\"vectorizer1.pk\" , \"wb\") as pk :\n",
    "#     pkl.dump(vectorizer , pk)"
   ]
  },
  {
   "cell_type": "code",
   "execution_count": 14,
   "id": "39f8fcb5",
   "metadata": {},
   "outputs": [],
   "source": [
    "# with open(\"model1.pk\" , \"wb\") as pk :\n",
    "#     pkl.dump(clf , pk)"
   ]
  },
  {
   "cell_type": "code",
   "execution_count": null,
   "id": "14771270",
   "metadata": {},
   "outputs": [
    {
     "name": "stdout",
     "output_type": "stream",
     "text": [
      " * Serving Flask app '__main__' (lazy loading)\n",
      " * Environment: production\n",
      "\u001b[31m   WARNING: This is a development server. Do not use it in a production deployment.\u001b[0m\n",
      "\u001b[2m   Use a production WSGI server instead.\u001b[0m\n",
      " * Debug mode: off\n"
     ]
    },
    {
     "name": "stderr",
     "output_type": "stream",
     "text": [
      " * Running on all addresses (0.0.0.0)\n",
      "   WARNING: This is a development server. Do not use it in a production deployment.\n",
      " * Running on http://127.0.0.1:8889\n",
      " * Running on http://172.17.0.2:8889 (Press CTRL+C to quit)\n",
      "172.17.0.2 - - [29/Jun/2022 07:44:47] \"POST /spam_check HTTP/1.1\" 200 -\n",
      "172.17.0.2 - - [29/Jun/2022 07:44:48] \"GET /health_check HTTP/1.1\" 200 -\n",
      "172.17.0.2 - - [29/Jun/2022 07:46:38] \"POST /spam_check HTTP/1.1\" 200 -\n",
      "172.17.0.1 - - [29/Jun/2022 07:47:24] \"GET /health_check HTTP/1.1\" 200 -\n",
      "172.17.0.1 - - [29/Jun/2022 07:47:24] \"GET /favicon.ico HTTP/1.1\" 404 -\n",
      "172.17.0.1 - - [29/Jun/2022 10:47:47] \"GET /health_check HTTP/1.1\" 200 -\n",
      "172.17.0.2 - - [29/Jun/2022 15:44:34] \"POST /spam_check HTTP/1.1\" 200 -\n",
      "172.17.0.2 - - [29/Jun/2022 15:44:52] \"POST /spam_check HTTP/1.1\" 200 -\n",
      "172.17.0.2 - - [29/Jun/2022 15:45:28] \"POST /spam_check HTTP/1.1\" 200 -\n",
      "172.17.0.2 - - [29/Jun/2022 15:46:11] \"POST /spam_check HTTP/1.1\" 200 -\n",
      "172.17.0.2 - - [29/Jun/2022 15:46:41] \"POST /spam_check HTTP/1.1\" 200 -\n"
     ]
    }
   ],
   "source": [
    "from flask import Flask\n",
    "from flask import request\n",
    "import requests\n",
    "# Flask constructor takes the name of\n",
    "# current module (__name__) as argument.\n",
    "app = Flask(__name__)\n",
    "\n",
    "@app.route('/health_check')\n",
    "# ‘/’ URL is bound with hello_world() function.\n",
    "def hello_world():\n",
    "    return 'Hello World'\n",
    "\n",
    "@app.route('/spam_check', methods=['POST', 'GET'])\n",
    "def spam_check():\n",
    "    x = request.get_json()\n",
    "    x = x[\"message\"]\n",
    "    x1 = vectorizer.transform([x])\n",
    "    x2 = clf.predict(x1)\n",
    "    return {\"op\" : x2[0]}\n",
    "   \n",
    " \n",
    "# main driver function\n",
    "if __name__ == '__main__':\n",
    " \n",
    "    # run() method of Flask class runs the application\n",
    "    # on the local development server.\n",
    "    app.run(host='0.0.0.0', port=8889)"
   ]
  },
  {
   "cell_type": "code",
   "execution_count": null,
   "id": "dcc66fac",
   "metadata": {},
   "outputs": [],
   "source": []
  }
 ],
 "metadata": {
  "kernelspec": {
   "display_name": "Python 3 (ipykernel)",
   "language": "python",
   "name": "python3"
  },
  "language_info": {
   "codemirror_mode": {
    "name": "ipython",
    "version": 3
   },
   "file_extension": ".py",
   "mimetype": "text/x-python",
   "name": "python",
   "nbconvert_exporter": "python",
   "pygments_lexer": "ipython3",
   "version": "3.8.2"
  }
 },
 "nbformat": 4,
 "nbformat_minor": 5
}
